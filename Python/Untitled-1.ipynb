{
 "cells": [
  {
   "cell_type": "code",
   "execution_count": null,
   "metadata": {},
   "outputs": [],
   "source": [
    "a = float(input (\"Digite um numero real: \"))\n",
    "b = float(input (\"Digite um outro numero real: \"))\n",
    "c = int(input (\"Digite um numero inteiro: \"))\n",
    "d = int(input (\"Digite um outro numero inteiro: \"))\n",
    "e = input (\"Digite um palavra qualquer: \")\n",
    "f = input (\"Digite um outra palavra qualuqer: \")\n",
    "# g = input (\"Digite oque quer inserir: \")\n",
    "# i = input (\"Digite em quem quer inserir: \")\n",
    "\n",
    "\n",
    "resp = (a>=b and c == d)\n",
    "print (\"\\n a >= b e c == d ==>\", resp)\n",
    "resp = (not (a >= b ) and c == d)\n",
    "print(\"\\nnão a >= b) and c == d ==> \", resp)\n",
    "resp = ( a >= b or e == f)\n",
    "print (\"\\na >= b ou c == d ==> \",resp)\n",
    "# resp = (g + i)\n",
    "# print (\"Estão inserindo: \",resp)\n"
   ]
  },
  {
   "cell_type": "code",
   "execution_count": null,
   "metadata": {},
   "outputs": [],
   "source": [
    "a = float(input( \"Qual o valor da A\"))\n",
    "resp = True if a>= -3 and a <= 10.5 else False \n",
    "print (resp)"
   ]
  },
  {
   "cell_type": "code",
   "execution_count": null,
   "metadata": {},
   "outputs": [],
   "source": [
    "temp = int(input(\"Digite uma tempeteratura em Fairenght: \"))\n",
    "\n",
    "ceuc = (temp-32) * 5/9\n",
    "\n",
    "print(ceuc)"
   ]
  },
  {
   "cell_type": "code",
   "execution_count": null,
   "metadata": {},
   "outputs": [],
   "source": [
    "Nome = input(\"Digite o seu nome: \")\n",
    "Cargo = input(\"Digite o seu cargo: \")\n",
    "Departamento = input(\"Digite seu departamento com uma letra: \")\n",
    "Cracha = input(\"Digite o cracha do Funcionario com 4 Numeros: \")\n",
    "Salario = int(input(\"Digite seu Salario: \"))\n",
    "NovoSalario = (Salario*1.07)\n",
    "N_Funcional = (Departamento + Cracha)\n",
    "\n",
    "print(\"Nome: \", Nome,\"\\nCargo: \", Cargo,\"\\nCracha: \",N_Funcional, \"\\nNovo Salario: \",NovoSalario,)"
   ]
  }
 ],
 "metadata": {
  "language_info": {
   "name": "python"
  }
 },
 "nbformat": 4,
 "nbformat_minor": 2
}
